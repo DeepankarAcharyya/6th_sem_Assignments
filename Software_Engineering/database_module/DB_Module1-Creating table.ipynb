{
 "cells": [
  {
   "cell_type": "markdown",
   "metadata": {},
   "source": [
    "### Building the schema of the Database\n",
    "* Name of the DataBase: GeneticSequencing \n",
    "* Attributes :\n",
    "> * Sl.No.\n",
    "> * Gene Specification\n",
    "> * Gene Squence\n",
    "> * Length\n",
    "> * Amino Acid Sequence\n",
    "> * Remark"
   ]
  },
  {
   "cell_type": "markdown",
   "metadata": {},
   "source": [
    "[The tutorial for the sqlalchemy](https://towardsdatascience.com/sqlalchemy-python-tutorial-79a577141a91)\n",
    "\n",
    "[For getting started with the postgreSQL and sqlalchemy](https://www.learndatasci.com/tutorials/using-databases-python-postgres-sqlalchemy-and-alembic/)\n",
    "\n",
    "[free code camp](https://medium.com/free-code-camp/how-to-get-started-with-postgresql-9d3bc1dd1b11#d003)"
   ]
  },
  {
   "cell_type": "markdown",
   "metadata": {},
   "source": [
    "### The sequence of commands to create a new database and grant permissions to the required user.\n",
    "[link1](https://medium.com/coding-blocks/creating-user-database-and-adding-access-on-postgresql-8bfcd2f4a91e)"
   ]
  },
  {
   "cell_type": "markdown",
   "metadata": {},
   "source": [
    "### Creating the table\n"
   ]
  },
  {
   "cell_type": "code",
   "execution_count": 1,
   "metadata": {},
   "outputs": [
    {
     "name": "stdout",
     "output_type": "stream",
     "text": [
      "Opened database successfully\n",
      "\n",
      "Table GeneticData Created Successfully\n",
      "\n"
     ]
    }
   ],
   "source": [
    "#connecting to the database\n",
    "import psycopg2\n",
    "\n",
    "username=\"deepankaracharyya\"\n",
    "passwd=\"password\"\n",
    "\n",
    "conn = psycopg2.connect(database=\"GeneticSequencing\", user = username, password = passwd, host = \"127.0.0.1\", port = \"5432\")\n",
    "\n",
    "print(\"Opened database successfully\")\n",
    "\n",
    "cur=conn.cursor()\n",
    "    \n",
    "#Doping EMPLOYEE table if already exists.\n",
    "cur.execute(\"DROP TABLE IF EXISTS GeneticData\")\n",
    "\n",
    "#TEXT is the variable-length character string. Theoretically,text data is a character string with unlimited length.\n",
    "table_create_command='''CREATE TABLE GeneticData(\n",
    "                Sl_No INT,\n",
    "                Gene_Specification VARCHAR(30),\n",
    "                Gene_Sequence TEXT,\n",
    "                Length INT,\n",
    "                Amino_Acid_Sequence TEXT,\n",
    "                Remark VARCHAR(50)\n",
    "            )'''\n",
    "    \n",
    "cur.execute(table_create_command)\n",
    "print(\"\\nTable GeneticData Created Successfully\\n\")\n",
    "\n",
    "conn.commit()\n",
    "conn.close()"
   ]
  }
 ],
 "metadata": {
  "kernelspec": {
   "display_name": "Python 3",
   "language": "python",
   "name": "python3"
  },
  "language_info": {
   "codemirror_mode": {
    "name": "ipython",
    "version": 3
   },
   "file_extension": ".py",
   "mimetype": "text/x-python",
   "name": "python",
   "nbconvert_exporter": "python",
   "pygments_lexer": "ipython3",
   "version": "3.7.6"
  }
 },
 "nbformat": 4,
 "nbformat_minor": 2
}
