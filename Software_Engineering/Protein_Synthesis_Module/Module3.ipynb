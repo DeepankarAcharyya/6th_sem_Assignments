{
 "cells": [
  {
   "cell_type": "code",
   "execution_count": 1,
   "metadata": {},
   "outputs": [],
   "source": [
    "import matplotlib.pyplot as plt"
   ]
  },
  {
   "cell_type": "markdown",
   "metadata": {},
   "source": [
    "## Opening the File"
   ]
  },
  {
   "cell_type": "code",
   "execution_count": 16,
   "metadata": {},
   "outputs": [],
   "source": [
    "geneSequenceFilePointer=open(\"resources/gene_sequence.txt\")"
   ]
  },
  {
   "cell_type": "markdown",
   "metadata": {},
   "source": [
    "### Specs:\n",
    "> * Window_size : 1000\n",
    "> * Nucleotide 1 : g\n",
    "> * Nucleotide 2 : c\n",
    "> * Skew = (nucleotide1 - nucleotide2) / (nucleotide1 + nucleotide2)"
   ]
  },
  {
   "cell_type": "code",
   "execution_count": 17,
   "metadata": {},
   "outputs": [],
   "source": [
    "window_size=1000\n",
    "step_size=100\n",
    "nucleotide_1=\"g\"\n",
    "nucleotide_2=\"c\""
   ]
  },
  {
   "cell_type": "markdown",
   "metadata": {},
   "source": [
    "### The Skew Function"
   ]
  },
  {
   "cell_type": "code",
   "execution_count": 18,
   "metadata": {},
   "outputs": [],
   "source": [
    "def calculate_skew(n1,n2):\n",
    "    return (n1-n2)/(n1+n2)     "
   ]
  },
  {
   "cell_type": "markdown",
   "metadata": {},
   "source": [
    "### The Counting Function:"
   ]
  },
  {
   "cell_type": "code",
   "execution_count": 19,
   "metadata": {},
   "outputs": [],
   "source": [
    "def count_nucleotides(n,sequence):\n",
    "    if (n==1):\n",
    "        return sequence.count(nucleotide_1)\n",
    "    elif (n==2):\n",
    "        return sequence.count(nucleotide_2)\n",
    "    else : \n",
    "        return -1"
   ]
  },
  {
   "cell_type": "markdown",
   "metadata": {},
   "source": [
    "### Creating the list of skew values:"
   ]
  },
  {
   "cell_type": "code",
   "execution_count": 20,
   "metadata": {},
   "outputs": [],
   "source": [
    "skew_values_list=[]\n",
    "cummulative_values=[0]\n",
    "i=0\n",
    "while (1):\n",
    "    read_sequence=geneSequenceFilePointer.read(window_size)\n",
    "    if(read_sequence==''):\n",
    "        break\n",
    "    n1=count_nucleotides(1,read_sequence)\n",
    "    n2=count_nucleotides(2,read_sequence)\n",
    "    skew=calculate_skew(n1,n2)\n",
    "    skew_values_list.append(skew)\n",
    "    i=i+1\n",
    "    if(i%step_size==0 and i!=0):\n",
    "        cummulative_values.append(cummulative_values[-1]+sum(skew_values_list))\n",
    "        skew_values_list=[]\n",
    "        "
   ]
  },
  {
   "cell_type": "markdown",
   "metadata": {},
   "source": [
    "### Closing the File Pointer"
   ]
  },
  {
   "cell_type": "code",
   "execution_count": 21,
   "metadata": {},
   "outputs": [],
   "source": [
    "geneSequenceFilePointer.close()"
   ]
  },
  {
   "cell_type": "markdown",
   "metadata": {},
   "source": [
    "### Plotting the GC Skew Plot"
   ]
  },
  {
   "cell_type": "code",
   "execution_count": 22,
   "metadata": {},
   "outputs": [
    {
     "data": {
      "image/png": "[encoded data removed]",
      "text/plain": [
       "<Figure size 432x288 with 1 Axes>"
      ]
     },
     "metadata": {
      "needs_background": "light"
     },
     "output_type": "display_data"
    }
   ],
   "source": [
    "x=[i for i in range(len(cummulative_values))]\n",
    "\n",
    "plt.plot(x,cummulative_values)\n",
    "\n",
    "plt.xlabel('Size of sequence')\n",
    "plt.ylabel('CGC')\n",
    "\n",
    "plt.title('GC Skew Plot')\n",
    "\n",
    "plt.show()"
   ]
  },
  {
   "cell_type": "code",
   "execution_count": null,
   "metadata": {},
   "outputs": [],
   "source": []
  }
 ],
 "metadata": {
  "kernelspec": {
   "display_name": "Python 3",
   "language": "python",
   "name": "python3"
  },
  "language_info": {
   "codemirror_mode": {
    "name": "ipython",
    "version": 3
   },
   "file_extension": ".py",
   "mimetype": "text/x-python",
   "name": "python",
   "nbconvert_exporter": "python",
   "pygments_lexer": "ipython3",
   "version": "3.7.6"
  }
 },
 "nbformat": 4,
 "nbformat_minor": 2
}
