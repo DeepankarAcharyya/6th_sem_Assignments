{
  "nbformat": 4,
  "nbformat_minor": 0,
  "metadata": {
    "kernelspec": {
      "display_name": "Python 3",
      "language": "python",
      "name": "python3"
    },
    "language_info": {
      "codemirror_mode": {
        "name": "ipython",
        "version": 3
      },
      "file_extension": ".py",
      "mimetype": "text/x-python",
      "name": "python",
      "nbconvert_exporter": "python",
      "pygments_lexer": "ipython3",
      "version": "3.7.6"
    },
    "colab": {
      "name": "KNN-Assignment-CSB17017.ipynb",
      "provenance": [],
      "machine_shape": "hm"
    }
  },
  "cells": [
    {
      "cell_type": "markdown",
      "metadata": {
        "id": "0FMFkJn2Xkc3",
        "colab_type": "text"
      },
      "source": [
        "Import Libraries"
      ]
    },
    {
      "cell_type": "code",
      "metadata": {
        "id": "NZpFvQBF9oeo",
        "colab_type": "code",
        "colab": {}
      },
      "source": [
        "import pandas as pd\n",
        "import numpy as np\n",
        "import matplotlib.pyplot as plt\n",
        "import seaborn as sns\n",
        "\n",
        "from sklearn.model_selection import train_test_split\n",
        "from sklearn.model_selection import cross_val_score\n",
        "from sklearn.preprocessing import LabelEncoder, StandardScaler\n",
        "\n",
        "from sklearn.neighbors import KNeighborsClassifier\n",
        "from sklearn import metrics"
      ],
      "execution_count": 0,
      "outputs": []
    },
    {
      "cell_type": "markdown",
      "metadata": {
        "id": "y1Flk49NXkMA",
        "colab_type": "text"
      },
      "source": [
        "Read in Dataset"
      ]
    },
    {
      "cell_type": "code",
      "metadata": {
        "id": "h3Xs-P5w9oe1",
        "colab_type": "code",
        "colab": {}
      },
      "source": [
        "#attribute list\n",
        "col_names = ['age','workclass','fnlwgt','education','education_num','marital_status','occupation','relationship','race','sex','capital_gain','capital_loss','hours_per_week','native_country','income']"
      ],
      "execution_count": 0,
      "outputs": []
    },
    {
      "cell_type": "code",
      "metadata": {
        "id": "yLc0GODT9oe6",
        "colab_type": "code",
        "colab": {}
      },
      "source": [
        "#reading in the training data and the data to be predicted\n",
        "adult_data_train=pd.read_csv('adult.data',names=col_names)\n",
        "adult_data_test= pd.read_csv('adult.test', names=col_names, skiprows=1)"
      ],
      "execution_count": 0,
      "outputs": []
    },
    {
      "cell_type": "markdown",
      "metadata": {
        "id": "pJXp_cf4YePx",
        "colab_type": "text"
      },
      "source": [
        "EDA"
      ]
    },
    {
      "cell_type": "code",
      "metadata": {
        "id": "143JDqtg9ofC",
        "colab_type": "code",
        "colab": {}
      },
      "source": [
        "adult_data_train.head()"
      ],
      "execution_count": 0,
      "outputs": []
    },
    {
      "cell_type": "code",
      "metadata": {
        "id": "VfIoqppqJgUb",
        "colab_type": "code",
        "colab": {}
      },
      "source": [
        "adult_data_train.info()"
      ],
      "execution_count": 0,
      "outputs": []
    },
    {
      "cell_type": "code",
      "metadata": {
        "id": "8M6bU7gyeBBd",
        "colab_type": "code",
        "colab": {}
      },
      "source": [
        "adult_data_train.sex.unique()"
      ],
      "execution_count": 0,
      "outputs": []
    },
    {
      "cell_type": "code",
      "metadata": {
        "id": "-Yaw31iFd88V",
        "colab_type": "code",
        "colab": {}
      },
      "source": [
        "adult_data_train.race.unique()"
      ],
      "execution_count": 0,
      "outputs": []
    },
    {
      "cell_type": "code",
      "metadata": {
        "id": "vXbK2Za8daFl",
        "colab_type": "code",
        "colab": {}
      },
      "source": [
        "adult_data_train.relationship.unique()"
      ],
      "execution_count": 0,
      "outputs": []
    },
    {
      "cell_type": "code",
      "metadata": {
        "id": "Sv5LWHZhdVAc",
        "colab_type": "code",
        "outputId": "aa6c6315-db86-41d6-a016-73bd260d5344",
        "colab": {
          "base_uri": "https://localhost:8080/",
          "height": 85
        }
      },
      "source": [
        "adult_data_train.education.unique()"
      ],
      "execution_count": 43,
      "outputs": [
        {
          "output_type": "execute_result",
          "data": {
            "text/plain": [
              "array([' Bachelors', ' HS-grad', ' 11th', ' Masters', ' 9th',\n",
              "       ' Some-college', ' Assoc-acdm', ' Assoc-voc', ' 7th-8th',\n",
              "       ' Doctorate', ' Prof-school', ' 5th-6th', ' 10th', ' 1st-4th',\n",
              "       ' Preschool', ' 12th'], dtype=object)"
            ]
          },
          "metadata": {
            "tags": []
          },
          "execution_count": 43
        }
      ]
    },
    {
      "cell_type": "code",
      "metadata": {
        "id": "AjK2kSPfdOeO",
        "colab_type": "code",
        "colab": {}
      },
      "source": [
        "adult_data_train.workclass.unique()"
      ],
      "execution_count": 0,
      "outputs": []
    },
    {
      "cell_type": "code",
      "metadata": {
        "id": "rx33OKsPc98H",
        "colab_type": "code",
        "colab": {}
      },
      "source": [
        "adult_data_train.occupation.unique()"
      ],
      "execution_count": 0,
      "outputs": []
    },
    {
      "cell_type": "code",
      "metadata": {
        "id": "17wvZlxCdIjg",
        "colab_type": "code",
        "colab": {}
      },
      "source": [
        "adult_data_train.income.unique()"
      ],
      "execution_count": 0,
      "outputs": []
    },
    {
      "cell_type": "code",
      "metadata": {
        "id": "mRK0u7bRcP6M",
        "colab_type": "code",
        "colab": {}
      },
      "source": [
        "adult_data_train.marital_status.unique()"
      ],
      "execution_count": 0,
      "outputs": []
    },
    {
      "cell_type": "code",
      "metadata": {
        "id": "ry3RgqZVcPj_",
        "colab_type": "code",
        "colab": {}
      },
      "source": [
        "adult_data_train.native_country.unique()"
      ],
      "execution_count": 0,
      "outputs": []
    },
    {
      "cell_type": "code",
      "metadata": {
        "id": "yfeNmeZYPU1a",
        "colab_type": "code",
        "colab": {}
      },
      "source": [
        "adult_data_train.describe()"
      ],
      "execution_count": 0,
      "outputs": []
    },
    {
      "cell_type": "markdown",
      "metadata": {
        "id": "wvnI1Rr2Y0K3",
        "colab_type": "text"
      },
      "source": [
        "Visualisations"
      ]
    },
    {
      "cell_type": "code",
      "metadata": {
        "id": "uUn2shLuY2RM",
        "colab_type": "code",
        "colab": {}
      },
      "source": [
        "sns.countplot(y='occupation', hue='income', data=adult_data_train)"
      ],
      "execution_count": 0,
      "outputs": []
    },
    {
      "cell_type": "code",
      "metadata": {
        "id": "szY7JPhKeaP0",
        "colab_type": "code",
        "colab": {}
      },
      "source": [
        "sns.countplot(y='native-country', hue='income', data=adult_data_train)"
      ],
      "execution_count": 0,
      "outputs": []
    },
    {
      "cell_type": "code",
      "metadata": {
        "id": "ETpyx-DweVLb",
        "colab_type": "code",
        "colab": {}
      },
      "source": [
        "sns.countplot(y='marital-status', hue='income', data=adult_data_train)"
      ],
      "execution_count": 0,
      "outputs": []
    },
    {
      "cell_type": "code",
      "metadata": {
        "id": "MRvn6SyeaEHk",
        "colab_type": "code",
        "colab": {}
      },
      "source": [
        "sns.countplot(y='education', hue='income', data=adult_data_train)"
      ],
      "execution_count": 0,
      "outputs": []
    },
    {
      "cell_type": "markdown",
      "metadata": {
        "id": "oL9Wh7bZ9ofm",
        "colab_type": "text"
      },
      "source": [
        "# Preprocessing the data"
      ]
    },
    {
      "cell_type": "markdown",
      "metadata": {
        "id": "swC-9RObXkBp",
        "colab_type": "text"
      },
      "source": [
        "Handle the missing values"
      ]
    },
    {
      "cell_type": "code",
      "metadata": {
        "id": "OUwWhyHSGFNu",
        "colab_type": "code",
        "outputId": "ca0b04aa-4f4f-4034-9657-d8668c35adb8",
        "colab": {
          "base_uri": "https://localhost:8080/",
          "height": 34
        }
      },
      "source": [
        "#finding out if there are missing values:\n",
        "adult_data_train.isnull().values.sum()              #total number of missing values"
      ],
      "execution_count": 18,
      "outputs": [
        {
          "output_type": "execute_result",
          "data": {
            "text/plain": [
              "0"
            ]
          },
          "metadata": {
            "tags": []
          },
          "execution_count": 18
        }
      ]
    },
    {
      "cell_type": "markdown",
      "metadata": {
        "id": "T2zQRxeJiP2t",
        "colab_type": "text"
      },
      "source": [
        "The missing values (in the form of \"?\") occurs in the column \"workclass\" and \"occupation\", both containing categorical data. So \"?\" will be considered as another category. And even if we replace the \"?\" with some other data, that wont be justified. One way is to drop the rows with the \"?\" categorical values."
      ]
    },
    {
      "cell_type": "markdown",
      "metadata": {
        "id": "cXzzsk81d6Qv",
        "colab_type": "text"
      },
      "source": [
        "Encoding :"
      ]
    },
    {
      "cell_type": "code",
      "metadata": {
        "id": "9jptyChod9Ss",
        "colab_type": "code",
        "colab": {
          "base_uri": "https://localhost:8080/",
          "height": 204
        },
        "outputId": "7debab40-88ac-49a0-ac56-612cb922abff"
      },
      "source": [
        "#separating the columns that needs to be encoded\n",
        "to_be_encoded_train = adult_data_train.select_dtypes(include=['object']).copy()\n",
        "to_be_encoded_train.head()"
      ],
      "execution_count": 19,
      "outputs": [
        {
          "output_type": "execute_result",
          "data": {
            "text/html": [
              "<div>\n",
              "<style scoped>\n",
              "    .dataframe tbody tr th:only-of-type {\n",
              "        vertical-align: middle;\n",
              "    }\n",
              "\n",
              "    .dataframe tbody tr th {\n",
              "        vertical-align: top;\n",
              "    }\n",
              "\n",
              "    .dataframe thead th {\n",
              "        text-align: right;\n",
              "    }\n",
              "</style>\n",
              "<table border=\"1\" class=\"dataframe\">\n",
              "  <thead>\n",
              "    <tr style=\"text-align: right;\">\n",
              "      <th></th>\n",
              "      <th>workclass</th>\n",
              "      <th>education</th>\n",
              "      <th>marital_status</th>\n",
              "      <th>occupation</th>\n",
              "      <th>relationship</th>\n",
              "      <th>race</th>\n",
              "      <th>sex</th>\n",
              "      <th>native_country</th>\n",
              "      <th>income</th>\n",
              "    </tr>\n",
              "  </thead>\n",
              "  <tbody>\n",
              "    <tr>\n",
              "      <th>0</th>\n",
              "      <td>State-gov</td>\n",
              "      <td>Bachelors</td>\n",
              "      <td>Never-married</td>\n",
              "      <td>Adm-clerical</td>\n",
              "      <td>Not-in-family</td>\n",
              "      <td>White</td>\n",
              "      <td>Male</td>\n",
              "      <td>United-States</td>\n",
              "      <td>&lt;=50K</td>\n",
              "    </tr>\n",
              "    <tr>\n",
              "      <th>1</th>\n",
              "      <td>Self-emp-not-inc</td>\n",
              "      <td>Bachelors</td>\n",
              "      <td>Married-civ-spouse</td>\n",
              "      <td>Exec-managerial</td>\n",
              "      <td>Husband</td>\n",
              "      <td>White</td>\n",
              "      <td>Male</td>\n",
              "      <td>United-States</td>\n",
              "      <td>&lt;=50K</td>\n",
              "    </tr>\n",
              "    <tr>\n",
              "      <th>2</th>\n",
              "      <td>Private</td>\n",
              "      <td>HS-grad</td>\n",
              "      <td>Divorced</td>\n",
              "      <td>Handlers-cleaners</td>\n",
              "      <td>Not-in-family</td>\n",
              "      <td>White</td>\n",
              "      <td>Male</td>\n",
              "      <td>United-States</td>\n",
              "      <td>&lt;=50K</td>\n",
              "    </tr>\n",
              "    <tr>\n",
              "      <th>3</th>\n",
              "      <td>Private</td>\n",
              "      <td>11th</td>\n",
              "      <td>Married-civ-spouse</td>\n",
              "      <td>Handlers-cleaners</td>\n",
              "      <td>Husband</td>\n",
              "      <td>Black</td>\n",
              "      <td>Male</td>\n",
              "      <td>United-States</td>\n",
              "      <td>&lt;=50K</td>\n",
              "    </tr>\n",
              "    <tr>\n",
              "      <th>4</th>\n",
              "      <td>Private</td>\n",
              "      <td>Bachelors</td>\n",
              "      <td>Married-civ-spouse</td>\n",
              "      <td>Prof-specialty</td>\n",
              "      <td>Wife</td>\n",
              "      <td>Black</td>\n",
              "      <td>Female</td>\n",
              "      <td>Cuba</td>\n",
              "      <td>&lt;=50K</td>\n",
              "    </tr>\n",
              "  </tbody>\n",
              "</table>\n",
              "</div>"
            ],
            "text/plain": [
              "           workclass   education  ...  native_country  income\n",
              "0          State-gov   Bachelors  ...   United-States   <=50K\n",
              "1   Self-emp-not-inc   Bachelors  ...   United-States   <=50K\n",
              "2            Private     HS-grad  ...   United-States   <=50K\n",
              "3            Private        11th  ...   United-States   <=50K\n",
              "4            Private   Bachelors  ...            Cuba   <=50K\n",
              "\n",
              "[5 rows x 9 columns]"
            ]
          },
          "metadata": {
            "tags": []
          },
          "execution_count": 19
        }
      ]
    },
    {
      "cell_type": "code",
      "metadata": {
        "id": "VU8bHwedw5NU",
        "colab_type": "code",
        "colab": {
          "base_uri": "https://localhost:8080/",
          "height": 204
        },
        "outputId": "e27253e1-fab6-417a-84c9-563d0c7a2eb3"
      },
      "source": [
        "#separating the columns that needs to be encoded\n",
        "to_be_encoded_test = adult_data_test.select_dtypes(include=['object']).copy()\n",
        "to_be_encoded_test.head()"
      ],
      "execution_count": 22,
      "outputs": [
        {
          "output_type": "execute_result",
          "data": {
            "text/html": [
              "<div>\n",
              "<style scoped>\n",
              "    .dataframe tbody tr th:only-of-type {\n",
              "        vertical-align: middle;\n",
              "    }\n",
              "\n",
              "    .dataframe tbody tr th {\n",
              "        vertical-align: top;\n",
              "    }\n",
              "\n",
              "    .dataframe thead th {\n",
              "        text-align: right;\n",
              "    }\n",
              "</style>\n",
              "<table border=\"1\" class=\"dataframe\">\n",
              "  <thead>\n",
              "    <tr style=\"text-align: right;\">\n",
              "      <th></th>\n",
              "      <th>workclass</th>\n",
              "      <th>education</th>\n",
              "      <th>marital_status</th>\n",
              "      <th>occupation</th>\n",
              "      <th>relationship</th>\n",
              "      <th>race</th>\n",
              "      <th>sex</th>\n",
              "      <th>native_country</th>\n",
              "      <th>income</th>\n",
              "    </tr>\n",
              "  </thead>\n",
              "  <tbody>\n",
              "    <tr>\n",
              "      <th>0</th>\n",
              "      <td>Private</td>\n",
              "      <td>11th</td>\n",
              "      <td>Never-married</td>\n",
              "      <td>Machine-op-inspct</td>\n",
              "      <td>Own-child</td>\n",
              "      <td>Black</td>\n",
              "      <td>Male</td>\n",
              "      <td>United-States</td>\n",
              "      <td>&lt;=50K.</td>\n",
              "    </tr>\n",
              "    <tr>\n",
              "      <th>1</th>\n",
              "      <td>Private</td>\n",
              "      <td>HS-grad</td>\n",
              "      <td>Married-civ-spouse</td>\n",
              "      <td>Farming-fishing</td>\n",
              "      <td>Husband</td>\n",
              "      <td>White</td>\n",
              "      <td>Male</td>\n",
              "      <td>United-States</td>\n",
              "      <td>&lt;=50K.</td>\n",
              "    </tr>\n",
              "    <tr>\n",
              "      <th>2</th>\n",
              "      <td>Local-gov</td>\n",
              "      <td>Assoc-acdm</td>\n",
              "      <td>Married-civ-spouse</td>\n",
              "      <td>Protective-serv</td>\n",
              "      <td>Husband</td>\n",
              "      <td>White</td>\n",
              "      <td>Male</td>\n",
              "      <td>United-States</td>\n",
              "      <td>&gt;50K.</td>\n",
              "    </tr>\n",
              "    <tr>\n",
              "      <th>3</th>\n",
              "      <td>Private</td>\n",
              "      <td>Some-college</td>\n",
              "      <td>Married-civ-spouse</td>\n",
              "      <td>Machine-op-inspct</td>\n",
              "      <td>Husband</td>\n",
              "      <td>Black</td>\n",
              "      <td>Male</td>\n",
              "      <td>United-States</td>\n",
              "      <td>&gt;50K.</td>\n",
              "    </tr>\n",
              "    <tr>\n",
              "      <th>4</th>\n",
              "      <td>?</td>\n",
              "      <td>Some-college</td>\n",
              "      <td>Never-married</td>\n",
              "      <td>?</td>\n",
              "      <td>Own-child</td>\n",
              "      <td>White</td>\n",
              "      <td>Female</td>\n",
              "      <td>United-States</td>\n",
              "      <td>&lt;=50K.</td>\n",
              "    </tr>\n",
              "  </tbody>\n",
              "</table>\n",
              "</div>"
            ],
            "text/plain": [
              "    workclass      education  ...  native_country   income\n",
              "0     Private           11th  ...   United-States   <=50K.\n",
              "1     Private        HS-grad  ...   United-States   <=50K.\n",
              "2   Local-gov     Assoc-acdm  ...   United-States    >50K.\n",
              "3     Private   Some-college  ...   United-States    >50K.\n",
              "4           ?   Some-college  ...   United-States   <=50K.\n",
              "\n",
              "[5 rows x 9 columns]"
            ]
          },
          "metadata": {
            "tags": []
          },
          "execution_count": 22
        }
      ]
    },
    {
      "cell_type": "code",
      "metadata": {
        "id": "0ItKCXlXf76U",
        "colab_type": "code",
        "colab": {}
      },
      "source": [
        "#Ecoding the categorical data\n",
        "label_encoder=LabelEncoder()"
      ],
      "execution_count": 0,
      "outputs": []
    },
    {
      "cell_type": "code",
      "metadata": {
        "id": "dtuS51dKx4uz",
        "colab_type": "code",
        "colab": {}
      },
      "source": [
        "train_data_encoded=to_be_encoded_train.apply(label_encoder.fit_transform)\n",
        "test_data_encoded=to_be_encoded_test.apply(label_encoder.fit_transform)"
      ],
      "execution_count": 0,
      "outputs": []
    },
    {
      "cell_type": "code",
      "metadata": {
        "id": "HFLVISr4yNQe",
        "colab_type": "code",
        "colab": {
          "base_uri": "https://localhost:8080/",
          "height": 204
        },
        "outputId": "639fe6e0-7423-475e-f4ac-bc9337f29c9e"
      },
      "source": [
        "train_data_encoded.head()"
      ],
      "execution_count": 25,
      "outputs": [
        {
          "output_type": "execute_result",
          "data": {
            "text/html": [
              "<div>\n",
              "<style scoped>\n",
              "    .dataframe tbody tr th:only-of-type {\n",
              "        vertical-align: middle;\n",
              "    }\n",
              "\n",
              "    .dataframe tbody tr th {\n",
              "        vertical-align: top;\n",
              "    }\n",
              "\n",
              "    .dataframe thead th {\n",
              "        text-align: right;\n",
              "    }\n",
              "</style>\n",
              "<table border=\"1\" class=\"dataframe\">\n",
              "  <thead>\n",
              "    <tr style=\"text-align: right;\">\n",
              "      <th></th>\n",
              "      <th>workclass</th>\n",
              "      <th>education</th>\n",
              "      <th>marital_status</th>\n",
              "      <th>occupation</th>\n",
              "      <th>relationship</th>\n",
              "      <th>race</th>\n",
              "      <th>sex</th>\n",
              "      <th>native_country</th>\n",
              "      <th>income</th>\n",
              "    </tr>\n",
              "  </thead>\n",
              "  <tbody>\n",
              "    <tr>\n",
              "      <th>0</th>\n",
              "      <td>7</td>\n",
              "      <td>9</td>\n",
              "      <td>4</td>\n",
              "      <td>1</td>\n",
              "      <td>1</td>\n",
              "      <td>4</td>\n",
              "      <td>1</td>\n",
              "      <td>39</td>\n",
              "      <td>0</td>\n",
              "    </tr>\n",
              "    <tr>\n",
              "      <th>1</th>\n",
              "      <td>6</td>\n",
              "      <td>9</td>\n",
              "      <td>2</td>\n",
              "      <td>4</td>\n",
              "      <td>0</td>\n",
              "      <td>4</td>\n",
              "      <td>1</td>\n",
              "      <td>39</td>\n",
              "      <td>0</td>\n",
              "    </tr>\n",
              "    <tr>\n",
              "      <th>2</th>\n",
              "      <td>4</td>\n",
              "      <td>11</td>\n",
              "      <td>0</td>\n",
              "      <td>6</td>\n",
              "      <td>1</td>\n",
              "      <td>4</td>\n",
              "      <td>1</td>\n",
              "      <td>39</td>\n",
              "      <td>0</td>\n",
              "    </tr>\n",
              "    <tr>\n",
              "      <th>3</th>\n",
              "      <td>4</td>\n",
              "      <td>1</td>\n",
              "      <td>2</td>\n",
              "      <td>6</td>\n",
              "      <td>0</td>\n",
              "      <td>2</td>\n",
              "      <td>1</td>\n",
              "      <td>39</td>\n",
              "      <td>0</td>\n",
              "    </tr>\n",
              "    <tr>\n",
              "      <th>4</th>\n",
              "      <td>4</td>\n",
              "      <td>9</td>\n",
              "      <td>2</td>\n",
              "      <td>10</td>\n",
              "      <td>5</td>\n",
              "      <td>2</td>\n",
              "      <td>0</td>\n",
              "      <td>5</td>\n",
              "      <td>0</td>\n",
              "    </tr>\n",
              "  </tbody>\n",
              "</table>\n",
              "</div>"
            ],
            "text/plain": [
              "   workclass  education  marital_status  ...  sex  native_country  income\n",
              "0          7          9               4  ...    1              39       0\n",
              "1          6          9               2  ...    1              39       0\n",
              "2          4         11               0  ...    1              39       0\n",
              "3          4          1               2  ...    1              39       0\n",
              "4          4          9               2  ...    0               5       0\n",
              "\n",
              "[5 rows x 9 columns]"
            ]
          },
          "metadata": {
            "tags": []
          },
          "execution_count": 25
        }
      ]
    },
    {
      "cell_type": "code",
      "metadata": {
        "id": "ukz4l2ccyQYu",
        "colab_type": "code",
        "colab": {
          "base_uri": "https://localhost:8080/",
          "height": 204
        },
        "outputId": "760b6ae5-5214-42fa-e03c-9151fa76ce08"
      },
      "source": [
        "test_data_encoded.head()"
      ],
      "execution_count": 26,
      "outputs": [
        {
          "output_type": "execute_result",
          "data": {
            "text/html": [
              "<div>\n",
              "<style scoped>\n",
              "    .dataframe tbody tr th:only-of-type {\n",
              "        vertical-align: middle;\n",
              "    }\n",
              "\n",
              "    .dataframe tbody tr th {\n",
              "        vertical-align: top;\n",
              "    }\n",
              "\n",
              "    .dataframe thead th {\n",
              "        text-align: right;\n",
              "    }\n",
              "</style>\n",
              "<table border=\"1\" class=\"dataframe\">\n",
              "  <thead>\n",
              "    <tr style=\"text-align: right;\">\n",
              "      <th></th>\n",
              "      <th>workclass</th>\n",
              "      <th>education</th>\n",
              "      <th>marital_status</th>\n",
              "      <th>occupation</th>\n",
              "      <th>relationship</th>\n",
              "      <th>race</th>\n",
              "      <th>sex</th>\n",
              "      <th>native_country</th>\n",
              "      <th>income</th>\n",
              "    </tr>\n",
              "  </thead>\n",
              "  <tbody>\n",
              "    <tr>\n",
              "      <th>0</th>\n",
              "      <td>4</td>\n",
              "      <td>1</td>\n",
              "      <td>4</td>\n",
              "      <td>7</td>\n",
              "      <td>3</td>\n",
              "      <td>2</td>\n",
              "      <td>1</td>\n",
              "      <td>38</td>\n",
              "      <td>0</td>\n",
              "    </tr>\n",
              "    <tr>\n",
              "      <th>1</th>\n",
              "      <td>4</td>\n",
              "      <td>11</td>\n",
              "      <td>2</td>\n",
              "      <td>5</td>\n",
              "      <td>0</td>\n",
              "      <td>4</td>\n",
              "      <td>1</td>\n",
              "      <td>38</td>\n",
              "      <td>0</td>\n",
              "    </tr>\n",
              "    <tr>\n",
              "      <th>2</th>\n",
              "      <td>2</td>\n",
              "      <td>7</td>\n",
              "      <td>2</td>\n",
              "      <td>11</td>\n",
              "      <td>0</td>\n",
              "      <td>4</td>\n",
              "      <td>1</td>\n",
              "      <td>38</td>\n",
              "      <td>1</td>\n",
              "    </tr>\n",
              "    <tr>\n",
              "      <th>3</th>\n",
              "      <td>4</td>\n",
              "      <td>15</td>\n",
              "      <td>2</td>\n",
              "      <td>7</td>\n",
              "      <td>0</td>\n",
              "      <td>2</td>\n",
              "      <td>1</td>\n",
              "      <td>38</td>\n",
              "      <td>1</td>\n",
              "    </tr>\n",
              "    <tr>\n",
              "      <th>4</th>\n",
              "      <td>0</td>\n",
              "      <td>15</td>\n",
              "      <td>4</td>\n",
              "      <td>0</td>\n",
              "      <td>3</td>\n",
              "      <td>4</td>\n",
              "      <td>0</td>\n",
              "      <td>38</td>\n",
              "      <td>0</td>\n",
              "    </tr>\n",
              "  </tbody>\n",
              "</table>\n",
              "</div>"
            ],
            "text/plain": [
              "   workclass  education  marital_status  ...  sex  native_country  income\n",
              "0          4          1               4  ...    1              38       0\n",
              "1          4         11               2  ...    1              38       0\n",
              "2          2          7               2  ...    1              38       1\n",
              "3          4         15               2  ...    1              38       1\n",
              "4          0         15               4  ...    0              38       0\n",
              "\n",
              "[5 rows x 9 columns]"
            ]
          },
          "metadata": {
            "tags": []
          },
          "execution_count": 26
        }
      ]
    },
    {
      "cell_type": "markdown",
      "metadata": {
        "id": "yvsSU-9CXj3N",
        "colab_type": "text"
      },
      "source": [
        "Standardize scale to prep for KNN Algo"
      ]
    },
    {
      "cell_type": "code",
      "metadata": {
        "id": "T7i1nVWGeIBf",
        "colab_type": "code",
        "colab": {}
      },
      "source": [
        "#separating the columns that needs to be standardized\n",
        "to_be_standardized_train=adult_data_train[['fnlwgt','capital_gain','capital_loss']].copy()\n",
        "to_be_standardized_test=adult_data_test[['fnlwgt','capital_gain','capital_loss']].copy()"
      ],
      "execution_count": 0,
      "outputs": []
    },
    {
      "cell_type": "code",
      "metadata": {
        "id": "28aLI8sgy4pm",
        "colab_type": "code",
        "colab": {}
      },
      "source": [
        "scaler=StandardScaler()"
      ],
      "execution_count": 0,
      "outputs": []
    },
    {
      "cell_type": "code",
      "metadata": {
        "id": "Y2bAANDrAyxI",
        "colab_type": "code",
        "colab": {}
      },
      "source": [
        "scaler.fit(to_be_standardized_train)\n",
        "standardized_train=scaler.transform(to_be_standardized_train)"
      ],
      "execution_count": 0,
      "outputs": []
    },
    {
      "cell_type": "code",
      "metadata": {
        "id": "wvd68GjfRRsT",
        "colab_type": "code",
        "colab": {}
      },
      "source": [
        "scaler.fit(to_be_standardized_test)\n",
        "standardized_test=scaler.transform(to_be_standardized_test)"
      ],
      "execution_count": 0,
      "outputs": []
    },
    {
      "cell_type": "code",
      "metadata": {
        "id": "hQ3TjN3CBKrY",
        "colab_type": "code",
        "colab": {}
      },
      "source": [
        "stand_train=pd.DataFrame(standardized_train,columns=['fnlwgt','capital_gain','capital_loss'])\n",
        "stand_test=pd.DataFrame(standardized_test,columns=['fnlwgt','capital_gain','capital_loss'])"
      ],
      "execution_count": 0,
      "outputs": []
    },
    {
      "cell_type": "code",
      "metadata": {
        "id": "PO9gsqJsbb77",
        "colab_type": "code",
        "colab": {
          "base_uri": "https://localhost:8080/",
          "height": 204
        },
        "outputId": "3eba8e33-a62c-4701-8dc3-256b96d1fc7f"
      },
      "source": [
        "stand_train.head()"
      ],
      "execution_count": 41,
      "outputs": [
        {
          "output_type": "execute_result",
          "data": {
            "text/html": [
              "<div>\n",
              "<style scoped>\n",
              "    .dataframe tbody tr th:only-of-type {\n",
              "        vertical-align: middle;\n",
              "    }\n",
              "\n",
              "    .dataframe tbody tr th {\n",
              "        vertical-align: top;\n",
              "    }\n",
              "\n",
              "    .dataframe thead th {\n",
              "        text-align: right;\n",
              "    }\n",
              "</style>\n",
              "<table border=\"1\" class=\"dataframe\">\n",
              "  <thead>\n",
              "    <tr style=\"text-align: right;\">\n",
              "      <th></th>\n",
              "      <th>fnlwgt</th>\n",
              "      <th>capital_gain</th>\n",
              "      <th>capital_loss</th>\n",
              "    </tr>\n",
              "  </thead>\n",
              "  <tbody>\n",
              "    <tr>\n",
              "      <th>0</th>\n",
              "      <td>-1.063611</td>\n",
              "      <td>0.148453</td>\n",
              "      <td>-0.21666</td>\n",
              "    </tr>\n",
              "    <tr>\n",
              "      <th>1</th>\n",
              "      <td>-1.008707</td>\n",
              "      <td>-0.145920</td>\n",
              "      <td>-0.21666</td>\n",
              "    </tr>\n",
              "    <tr>\n",
              "      <th>2</th>\n",
              "      <td>0.245079</td>\n",
              "      <td>-0.145920</td>\n",
              "      <td>-0.21666</td>\n",
              "    </tr>\n",
              "    <tr>\n",
              "      <th>3</th>\n",
              "      <td>0.425801</td>\n",
              "      <td>-0.145920</td>\n",
              "      <td>-0.21666</td>\n",
              "    </tr>\n",
              "    <tr>\n",
              "      <th>4</th>\n",
              "      <td>1.408176</td>\n",
              "      <td>-0.145920</td>\n",
              "      <td>-0.21666</td>\n",
              "    </tr>\n",
              "  </tbody>\n",
              "</table>\n",
              "</div>"
            ],
            "text/plain": [
              "     fnlwgt  capital_gain  capital_loss\n",
              "0 -1.063611      0.148453      -0.21666\n",
              "1 -1.008707     -0.145920      -0.21666\n",
              "2  0.245079     -0.145920      -0.21666\n",
              "3  0.425801     -0.145920      -0.21666\n",
              "4  1.408176     -0.145920      -0.21666"
            ]
          },
          "metadata": {
            "tags": []
          },
          "execution_count": 41
        }
      ]
    },
    {
      "cell_type": "code",
      "metadata": {
        "id": "v6bfGdM7c35J",
        "colab_type": "code",
        "colab": {
          "base_uri": "https://localhost:8080/",
          "height": 204
        },
        "outputId": "a4c6a364-d0ed-4b0a-f788-feaffc348f67"
      },
      "source": [
        "stand_test.head()"
      ],
      "execution_count": 42,
      "outputs": [
        {
          "output_type": "execute_result",
          "data": {
            "text/html": [
              "<div>\n",
              "<style scoped>\n",
              "    .dataframe tbody tr th:only-of-type {\n",
              "        vertical-align: middle;\n",
              "    }\n",
              "\n",
              "    .dataframe tbody tr th {\n",
              "        vertical-align: top;\n",
              "    }\n",
              "\n",
              "    .dataframe thead th {\n",
              "        text-align: right;\n",
              "    }\n",
              "</style>\n",
              "<table border=\"1\" class=\"dataframe\">\n",
              "  <thead>\n",
              "    <tr style=\"text-align: right;\">\n",
              "      <th></th>\n",
              "      <th>fnlwgt</th>\n",
              "      <th>capital_gain</th>\n",
              "      <th>capital_loss</th>\n",
              "    </tr>\n",
              "  </thead>\n",
              "  <tbody>\n",
              "    <tr>\n",
              "      <th>0</th>\n",
              "      <td>0.353474</td>\n",
              "      <td>-0.142662</td>\n",
              "      <td>-0.218062</td>\n",
              "    </tr>\n",
              "    <tr>\n",
              "      <th>1</th>\n",
              "      <td>-0.942391</td>\n",
              "      <td>-0.142662</td>\n",
              "      <td>-0.218062</td>\n",
              "    </tr>\n",
              "    <tr>\n",
              "      <th>2</th>\n",
              "      <td>1.395450</td>\n",
              "      <td>-0.142662</td>\n",
              "      <td>-0.218062</td>\n",
              "    </tr>\n",
              "    <tr>\n",
              "      <th>3</th>\n",
              "      <td>-0.275397</td>\n",
              "      <td>0.871091</td>\n",
              "      <td>-0.218062</td>\n",
              "    </tr>\n",
              "    <tr>\n",
              "      <th>4</th>\n",
              "      <td>-0.812954</td>\n",
              "      <td>-0.142662</td>\n",
              "      <td>-0.218062</td>\n",
              "    </tr>\n",
              "  </tbody>\n",
              "</table>\n",
              "</div>"
            ],
            "text/plain": [
              "     fnlwgt  capital_gain  capital_loss\n",
              "0  0.353474     -0.142662     -0.218062\n",
              "1 -0.942391     -0.142662     -0.218062\n",
              "2  1.395450     -0.142662     -0.218062\n",
              "3 -0.275397      0.871091     -0.218062\n",
              "4 -0.812954     -0.142662     -0.218062"
            ]
          },
          "metadata": {
            "tags": []
          },
          "execution_count": 42
        }
      ]
    },
    {
      "cell_type": "markdown",
      "metadata": {
        "id": "hn7o9TdwLFEc",
        "colab_type": "text"
      },
      "source": [
        "Forming the final dataframes to be fed for training and testing:"
      ]
    },
    {
      "cell_type": "code",
      "metadata": {
        "id": "61VlAMBjLWIX",
        "colab_type": "code",
        "colab": {}
      },
      "source": [
        "X_train=pd.concat([adult_data_train[['age','education_num','hours_per_week']].copy(),stand_train,train_data_encoded.drop(columns='income')],axis=1)\n",
        "Y_train=train_data_encoded['income']"
      ],
      "execution_count": 0,
      "outputs": []
    },
    {
      "cell_type": "code",
      "metadata": {
        "id": "RviEEk7VMn6z",
        "colab_type": "code",
        "colab": {}
      },
      "source": [
        "X_test=pd.concat([adult_data_test[['age','education_num','hours_per_week']].copy(),stand_test,test_data_encoded.drop(columns='income')],axis=1)\n",
        "Y_test=test_data_encoded['income']"
      ],
      "execution_count": 0,
      "outputs": []
    },
    {
      "cell_type": "markdown",
      "metadata": {
        "id": "o8I-WBRJXjtk",
        "colab_type": "text"
      },
      "source": [
        "Split into training and test data sets:\n",
        "\n",
        "Since different datasets are already available for testing and training, train_test_split is not required. "
      ]
    },
    {
      "cell_type": "markdown",
      "metadata": {
        "id": "iS5Vy55mXjcm",
        "colab_type": "text"
      },
      "source": [
        "create and train the model"
      ]
    },
    {
      "cell_type": "markdown",
      "metadata": {
        "id": "iikHc-rb9of8",
        "colab_type": "text"
      },
      "source": [
        "# The KNN Model"
      ]
    },
    {
      "cell_type": "code",
      "metadata": {
        "id": "IopOVl1s9of-",
        "colab_type": "code",
        "outputId": "5fa09961-21aa-497d-c214-b340ffadcec0",
        "colab": {
          "base_uri": "https://localhost:8080/",
          "height": 296
        }
      },
      "source": [
        "# Find the optimum value of k\n",
        "k_range=range(1,20)\n",
        "scores={}\n",
        "scores_list=[]\n",
        "\n",
        "for k in k_range:\n",
        "    knn=KNeighborsClassifier(n_neighbors=k)\n",
        "    knn.fit(X_train,Y_train)\n",
        "    y_pred=knn.predict(X_test)\n",
        "    sc=metrics.accuracy_score(Y_test,y_pred)\n",
        "    scores[k]=sc\n",
        "    scores_list.append(sc)\n",
        "    \n",
        "plt.plot(k_range,scores_list)\n",
        "plt.xlabel('K value for KNN')\n",
        "plt.ylabel('Testing Accuracy')"
      ],
      "execution_count": 51,
      "outputs": [
        {
          "output_type": "execute_result",
          "data": {
            "text/plain": [
              "Text(0, 0.5, 'Testing Accuracy')"
            ]
          },
          "metadata": {
            "tags": []
          },
          "execution_count": 51
        },
        {
          "output_type": "display_data",
          "data": {
            "image/png": "[encoded data removed]",
            "text/plain": [
              "<Figure size 432x288 with 1 Axes>"
            ]
          },
          "metadata": {
            "tags": [],
            "needs_background": "light"
          }
        }
      ]
    },
    {
      "cell_type": "markdown",
      "metadata": {
        "id": "sAHKg9zzXjR-",
        "colab_type": "text"
      },
      "source": [
        "Make predictions with the model"
      ]
    },
    {
      "cell_type": "markdown",
      "metadata": {
        "id": "J6SsnEJPXjIT",
        "colab_type": "text"
      },
      "source": [
        "Evaluate alternative k values for better prediction"
      ]
    },
    {
      "cell_type": "markdown",
      "metadata": {
        "id": "reqqwIteXi-y",
        "colab_type": "text"
      },
      "source": [
        "Plot error rate"
      ]
    },
    {
      "cell_type": "markdown",
      "metadata": {
        "id": "FWj7J3D5XiQZ",
        "colab_type": "text"
      },
      "source": [
        "Adjust K value per error rate evaluations"
      ]
    },
    {
      "cell_type": "code",
      "metadata": {
        "id": "RJZ0NPP89ogJ",
        "colab_type": "code",
        "outputId": "5cbd573e-9f4c-4782-b407-d897b25b0710",
        "colab": {}
      },
      "source": [
        "#Train the knn model with optimum value of k\n",
        "k_optimum=15\n",
        "knn=KNeighborsClassifier(n_neighbors=k_optimum)\n",
        "knn.fit(X_train,y_train)\n",
        "knn.score(X_test, y_test)"
      ],
      "execution_count": 0,
      "outputs": [
        {
          "output_type": "execute_result",
          "data": {
            "text/plain": [
              "0.7888837709196991"
            ]
          },
          "metadata": {
            "tags": []
          },
          "execution_count": 28
        }
      ]
    },
    {
      "cell_type": "code",
      "metadata": {
        "id": "HFP1KXhx9ogN",
        "colab_type": "code",
        "colab": {}
      },
      "source": [
        "#predict the value for the test sets\n",
        "prediction=knn.predict(data_predict)"
      ],
      "execution_count": 0,
      "outputs": []
    },
    {
      "cell_type": "code",
      "metadata": {
        "id": "OYQyTLod9ogR",
        "colab_type": "code",
        "colab": {}
      },
      "source": [
        "pred=pd.DataFrame(prediction,columns=['pred'])"
      ],
      "execution_count": 0,
      "outputs": []
    },
    {
      "cell_type": "code",
      "metadata": {
        "id": "D7QQoVkx9ogW",
        "colab_type": "code",
        "outputId": "90f5529c-d023-4d9f-f47f-74bde9cd2cfc",
        "colab": {}
      },
      "source": [
        "sns.countplot(y='pred',data=pred,)"
      ],
      "execution_count": 0,
      "outputs": [
        {
          "output_type": "execute_result",
          "data": {
            "text/plain": [
              "<matplotlib.axes._subplots.AxesSubplot at 0x7fa53b2bb4d0>"
            ]
          },
          "metadata": {
            "tags": []
          },
          "execution_count": 33
        },
        {
          "output_type": "display_data",
          "data": {
            "image/png": "[encoded data removed]",
            "text/plain": [
              "<Figure size 432x288 with 1 Axes>"
            ]
          },
          "metadata": {
            "tags": [],
            "needs_background": "light"
          }
        }
      ]
    },
    {
      "cell_type": "code",
      "metadata": {
        "id": "SdV3qg649ogb",
        "colab_type": "code",
        "colab": {}
      },
      "source": [
        ""
      ],
      "execution_count": 0,
      "outputs": []
    }
  ]
}