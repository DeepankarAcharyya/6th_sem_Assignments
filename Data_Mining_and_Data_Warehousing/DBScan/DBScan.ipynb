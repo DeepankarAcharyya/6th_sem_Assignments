{
 "cells": [
  {
   "cell_type": "markdown",
   "metadata": {},
   "source": [
    "# Density Based Spatial Clustering of Applications with Noise"
   ]
  },
  {
   "cell_type": "markdown",
   "metadata": {},
   "source": [
    "#### Concepts:\n",
    "* Requires only one user input parameter\n",
    "* Task : Class Identification\n",
    "* Requirements:\n",
    "> * Minimal Domain Knowledge to determine the input parameters.\n",
    "> * Discovery of arbitrary shaped clusters.\n",
    "> * Good Scalability--> Good Efficiency on large databases.\n",
    "\n",
    "* Partitioning Algorithms use a 2-step Procedure:\n",
    "    > 1. Determine the k-representatives minimizing the objective function\n",
    "    > 2. Assign each object to the cluster with its representative closeness to the considered object\n",
    "\n",
    "* Concepts:\n",
    "    > * The density within the areas of noise is lower than the density in any of the clusters.\n",
    "    > * The key idea is that for each point of a cluster the neighborhood of a given radius has to contain at least a minimum number of points, i.e. the density in the neighborhood has to exceed some threshold.\n",
    "    > *  The shape of a neighborhood is determined by the choice of a distance function for two points p and q, denoted by dist(p,q). \n",
    "    > * In general, an Epsneighborhood of a border point contains significantly less points than an Eps-neighborhood of a core point.\n",
    "    \n",
    "* Terms:\n",
    "> * Eps-neighbourhood of a point\n",
    "> * Core Points\n",
    "> * Border Points\n",
    "> * Directly Density Reachable\n",
    "> * Density reachable\n",
    "> * Density reachable is a canonical extension of direct-density reachable\n",
    "    > > This relation is transitive but not symmetric\n",
    "    > > There must be a core point in C from which both border points of C are density-reachable\n",
    "> * Density-connected\n",
    "    > > is a symmetric relation\n",
    "    > > For density reachable points, the relation of density-connectivity is also reflexive\n",
    "> * A cluster is defined to be a set of density-connected points which is maximal w.r.t density-reachability\n"
   ]
  },
  {
   "cell_type": "markdown",
   "metadata": {},
   "source": [
    "### The DBScan Algorithm:\n",
    "\n",
    "> Given the *parameters : Eps and MinPts* , the clusters will be discovered in a 2-step approach:\n",
    "> > 1. Choose an arbitrary point from the database satisfying the core point condition as a seed.\n",
    "> > 2. Retrieve all the points that are density-reachable from the seed obtaining the cluster containing the seed."
   ]
  },
  {
   "cell_type": "markdown",
   "metadata": {},
   "source": [
    "### DBScan uses global values for Eps and MinPts\n",
    "> ##### Simple and effective heuristic to determine the parameters Eps and MinPts"
   ]
  },
  {
   "cell_type": "markdown",
   "metadata": {},
   "source": [
    "### Unknown Terms/to be searched for later/important points:\n",
    "> * Voronoi Cells\n",
    "> *  Ng & Han (1994) also discuss methods to determine the “natural” number knat of clusters in a database.\n",
    "> * silhouette coefficient\n",
    "> * One example of a termination condition in the agglomerative approach is the critical distance Dmin between all the clusters of Q.\n",
    "> * Ejcluster Algorithm--can discover non-convex clusters--computational cost is O(n^2)\n",
    "> * Directly density-reachable is symmetric for pairs of core points. In general, however, it is not symmetric if one core point and one border point are involved.\n"
   ]
  },
  {
   "cell_type": "code",
   "execution_count": null,
   "metadata": {},
   "outputs": [],
   "source": []
  }
 ],
 "metadata": {
  "kernelspec": {
   "display_name": "Python 3",
   "language": "python",
   "name": "python3"
  },
  "language_info": {
   "codemirror_mode": {
    "name": "ipython",
    "version": 3
   },
   "file_extension": ".py",
   "mimetype": "text/x-python",
   "name": "python",
   "nbconvert_exporter": "python",
   "pygments_lexer": "ipython3",
   "version": "3.7.6"
  }
 },
 "nbformat": 4,
 "nbformat_minor": 2
}
