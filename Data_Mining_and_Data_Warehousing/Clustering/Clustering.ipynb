{
 "cells": [
  {
   "cell_type": "markdown",
   "metadata": {},
   "source": [
    "### k-means clustering algorithm\n",
    "* for 2D data points\n",
    "* using Euclidean Distance"
   ]
  },
  {
   "cell_type": "markdown",
   "metadata": {},
   "source": [
    "### Class for the Data-points"
   ]
  },
  {
   "cell_type": "code",
   "execution_count": 66,
   "metadata": {},
   "outputs": [],
   "source": [
    "class data_points:\n",
    "    def __init__(self,x,y):\n",
    "        self.x=float(x)\n",
    "        self.y=float(y)\n",
    "        self.cid=0"
   ]
  },
  {
   "cell_type": "markdown",
   "metadata": {},
   "source": [
    "### Functions"
   ]
  },
  {
   "cell_type": "code",
   "execution_count": 92,
   "metadata": {},
   "outputs": [],
   "source": [
    "#function to calculate distance\n",
    "def cal_distance(obj1,obj2):\n",
    "    x1=float(obj1.x)\n",
    "    y1=float(obj1.y)\n",
    "    x2=float(obj2.x)\n",
    "    y2=float(obj2.y)\n",
    "    \n",
    "    dis=(x2-x1)**2+(y2-y1)**2\n",
    "    dis=(dis)**0.5\n",
    "    \n",
    "    return dis"
   ]
  },
  {
   "cell_type": "code",
   "execution_count": 68,
   "metadata": {},
   "outputs": [],
   "source": [
    "#dividing the data points into clusters\n",
    "def sep_into_clusters(i):\n",
    "    clusters1=[[] for j in range(i)]\n",
    "    for i in range(len(data_points_list)):\n",
    "        k=data_points_list[i].cid\n",
    "        clusters1[k].append(data_points_list[i])\n",
    "        \n",
    "    return clusters1"
   ]
  },
  {
   "cell_type": "code",
   "execution_count": 69,
   "metadata": {},
   "outputs": [],
   "source": [
    "#assign cluster_id to the datapoints\n",
    "def assign_cluster_id():\n",
    "    for i in range(len(distance_list)):\n",
    "        index=distance_list[i].index(min(distance_list[i]))\n",
    "        data_points_list[i].cid=index"
   ]
  },
  {
   "cell_type": "code",
   "execution_count": 70,
   "metadata": {},
   "outputs": [],
   "source": [
    "#finding the updated centroids of the clusters\n",
    "def update_centroids():\n",
    "    for i in range(len(centroid_list)):\n",
    "        x=0\n",
    "        y=0\n",
    "        for j in range(len(clusters[i])):\n",
    "            x=x+clusters[i][j].x\n",
    "            y=y+clusters[i][j].y\n",
    "        x=x/len(clusters[i])\n",
    "        y=y/len(clusters[i])\n",
    "        obj=data_points(x,y)\n",
    "        centroid_list[i]=obj"
   ]
  },
  {
   "cell_type": "code",
   "execution_count": 132,
   "metadata": {},
   "outputs": [],
   "source": [
    "def print_centroids():\n",
    "    for i in range(len(centroid_list)):\n",
    "        print(\"\\nCentroid No:\",i+1,\" x=\",centroid_list[i].x,\" y=\",centroid_list[i].y)"
   ]
  },
  {
   "cell_type": "markdown",
   "metadata": {},
   "source": [
    "### Preprocessing the Input data"
   ]
  },
  {
   "cell_type": "code",
   "execution_count": 71,
   "metadata": {},
   "outputs": [],
   "source": [
    "#the input data\n",
    "data=[[10,20],[5,8],[6,9],[7,5],[12,22],[14,25]]"
   ]
  },
  {
   "cell_type": "code",
   "execution_count": 72,
   "metadata": {},
   "outputs": [],
   "source": [
    "#changing the data points from the list to the list of objects\n",
    "data_points_list=[]\n",
    "\n",
    "for i in range(len(data)):\n",
    "    x=data[i][0]\n",
    "    y=data[i][1]\n",
    "    \n",
    "    obj=data_points(x,y)\n",
    "    \n",
    "    data_points_list.append(obj)  "
   ]
  },
  {
   "cell_type": "markdown",
   "metadata": {},
   "source": [
    "### Visualization of the input"
   ]
  },
  {
   "cell_type": "code",
   "execution_count": 74,
   "metadata": {},
   "outputs": [],
   "source": [
    "import matplotlib.pyplot as plt"
   ]
  },
  {
   "cell_type": "code",
   "execution_count": 76,
   "metadata": {},
   "outputs": [
    {
     "data": {
      "image/png": "[encoded data removed]",
      "text/plain": [
       "<Figure size 432x288 with 1 Axes>"
      ]
     },
     "metadata": {
      "needs_background": "light"
     },
     "output_type": "display_data"
    }
   ],
   "source": [
    "# for visualisation\n",
    "x_list=[]\n",
    "y_list=[]\n",
    "\n",
    "for i in range(len(data)):\n",
    "    x=data[i][0]\n",
    "    y=data[i][1]\n",
    "    x_list.append(x)\n",
    "    y_list.append(y)\n",
    "    \n",
    "plt.scatter(x_list,y_list)\n",
    "plt.show()"
   ]
  },
  {
   "cell_type": "markdown",
   "metadata": {},
   "source": [
    "### Steps for performing the k-means clustering:\n",
    "* Select the centroids\n",
    " > * calculate the distance of the points from the centroids\n",
    " > * assign the data-points to their respective clusters\n",
    " > * calculate the centroids of each cluster\n",
    " > * repeat"
   ]
  },
  {
   "cell_type": "markdown",
   "metadata": {},
   "source": [
    "### The Global Variables"
   ]
  },
  {
   "cell_type": "code",
   "execution_count": 129,
   "metadata": {},
   "outputs": [
    {
     "name": "stdout",
     "output_type": "stream",
     "text": [
      "Enter the number of clusters(k):2\n"
     ]
    }
   ],
   "source": [
    "#the k-means algorithm\n",
    "k=int(input(\"Enter the number of clusters(k):\"))\n",
    "num_of_data_points=len(data_points_list)//k\n",
    "centroid_list=[0 for i in range(k)]\n",
    "distance_list=[[0,0] for i in range(len(data_points_list))]\n",
    "epochs=5"
   ]
  },
  {
   "cell_type": "code",
   "execution_count": 134,
   "metadata": {},
   "outputs": [],
   "source": [
    "#initial centroid selection:\n",
    "for i in range(k):\n",
    "    centroid_list[i]=data_points_list[i]"
   ]
  },
  {
   "cell_type": "code",
   "execution_count": 135,
   "metadata": {},
   "outputs": [
    {
     "name": "stdout",
     "output_type": "stream",
     "text": [
      "\n",
      "Epoch: 0\n",
      "\n",
      "Centroid No: 1  x= 10.0  y= 20.0\n",
      "\n",
      "Centroid No: 2  x= 5.0  y= 8.0\n",
      "\n",
      "Epoch: 1\n",
      "\n",
      "Centroid No: 1  x= 12.0  y= 22.333333333333332\n",
      "\n",
      "Centroid No: 2  x= 6.0  y= 7.333333333333333\n",
      "\n",
      "Epoch: 2\n",
      "\n",
      "Centroid No: 1  x= 12.0  y= 22.333333333333332\n",
      "\n",
      "Centroid No: 2  x= 6.0  y= 7.333333333333333\n",
      "\n",
      "Epoch: 3\n",
      "\n",
      "Centroid No: 1  x= 12.0  y= 22.333333333333332\n",
      "\n",
      "Centroid No: 2  x= 6.0  y= 7.333333333333333\n",
      "\n",
      "Epoch: 4\n",
      "\n",
      "Centroid No: 1  x= 12.0  y= 22.333333333333332\n",
      "\n",
      "Centroid No: 2  x= 6.0  y= 7.333333333333333\n"
     ]
    }
   ],
   "source": [
    "for epoch in range(epochs):\n",
    "    print(\"\\nEpoch:\",epoch)\n",
    "    print_centroids()\n",
    "    # calculate the distance of each of the points from the centroids and store the result\n",
    "    for i in range(len(data_points_list)):\n",
    "        for j in range(len(centroid_list)):\n",
    "            d1=cal_distance(data_points_list[i],centroid_list[j])\n",
    "            distance_list[i][j]=d1\n",
    "        \n",
    "    #assign the cluster-id to the data-points\n",
    "    assign_cluster_id()\n",
    "    #assigning the data-points to the clusters\n",
    "    clusters=sep_into_clusters(k)\n",
    "    update_centroids()"
   ]
  },
  {
   "cell_type": "code",
   "execution_count": 82,
   "metadata": {},
   "outputs": [],
   "source": [
    "# calculate the distance of each of the points from the centroids and store the result\n",
    "for i in range(len(data_points_list)):\n",
    "    for j in range(len(centroid_list)):\n",
    "        d1=cal_distance(x1=data_points_list[i].x,x2=centroid_list[j].x,y1=data_points_list[i].y,y2=centroid_list[j].y)\n",
    "        distance_list[i][j]=d1\n",
    "        \n",
    "#assign the cluster-id to the data-points\n",
    "assign_cluster_id()"
   ]
  },
  {
   "cell_type": "code",
   "execution_count": 83,
   "metadata": {},
   "outputs": [
    {
     "name": "stdout",
     "output_type": "stream",
     "text": [
      "[[0.0, 13.0], [13.0, 0.0], [11.704699910719626, 1.4142135623730951], [15.297058540778355, 3.605551275463989], [2.8284271247461903, 15.652475842498529], [6.4031242374328485, 19.235384061671343]]\n",
      "0\n",
      "1\n",
      "1\n",
      "1\n",
      "0\n",
      "0\n"
     ]
    }
   ],
   "source": [
    "print(distance_list)\n",
    "for i in range(len(data_points_list)):\n",
    "    print(data_points_list[i].cid)"
   ]
  },
  {
   "cell_type": "code",
   "execution_count": 84,
   "metadata": {},
   "outputs": [],
   "source": [
    "#assigning the data-points to the clusters\n",
    "clusters=sep_into_clusters(k)\n",
    "#print(clusters)"
   ]
  },
  {
   "cell_type": "code",
   "execution_count": 85,
   "metadata": {},
   "outputs": [
    {
     "name": "stdout",
     "output_type": "stream",
     "text": [
      "[<__main__.data_points object at 0x7f74ffb56c50>, <__main__.data_points object at 0x7f74ffb56dd0>]\n"
     ]
    }
   ],
   "source": [
    "update_centroids()\n",
    "print(centroid_list)"
   ]
  },
  {
   "cell_type": "code",
   "execution_count": 117,
   "metadata": {},
   "outputs": [],
   "source": [
    "def get_color(i):\n",
    "    i=int(i)\n",
    "    if(i==0):\n",
    "        return 'r'\n",
    "    else:\n",
    "        return 'g'"
   ]
  },
  {
   "cell_type": "code",
   "execution_count": 120,
   "metadata": {},
   "outputs": [],
   "source": [
    "#function for final visualization of the datapoints\n",
    "import seaborn as sns\n",
    "\n",
    "def plot_datapoints():\n",
    "    for i in range(len(data_points_list)):\n",
    "        plt.scatter(data_points_list[i].x, data_points_list[i].y, marker='o',color=get_color(data_points_list[i].cid))\n",
    "    plt.show()"
   ]
  },
  {
   "cell_type": "code",
   "execution_count": 121,
   "metadata": {},
   "outputs": [
    {
     "data": {
      "image/png": "[encoded data removed]",
      "text/plain": [
       "<Figure size 432x288 with 1 Axes>"
      ]
     },
     "metadata": {
      "needs_background": "light"
     },
     "output_type": "display_data"
    }
   ],
   "source": [
    "plot_datapoints()"
   ]
  },
  {
   "cell_type": "code",
   "execution_count": null,
   "metadata": {},
   "outputs": [],
   "source": []
  }
 ],
 "metadata": {
  "kernelspec": {
   "display_name": "Python 3",
   "language": "python",
   "name": "python3"
  },
  "language_info": {
   "codemirror_mode": {
    "name": "ipython",
    "version": 3
   },
   "file_extension": ".py",
   "mimetype": "text/x-python",
   "name": "python",
   "nbconvert_exporter": "python",
   "pygments_lexer": "ipython3",
   "version": "3.7.5"
  }
 },
 "nbformat": 4,
 "nbformat_minor": 2
}
